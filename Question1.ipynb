{
  "cells": [
    {
      "cell_type": "code",
      "execution_count": 2,
      "metadata": {
        "id": "fVdiXPnpVmpM"
      },
      "outputs": [],
      "source": [
        "import pandas as pd\n",
        "import numpy as np\n",
        "from sklearn.model_selection import train_test_split\n",
        "from sklearn.preprocessing import LabelEncoder, StandardScaler\n",
        "from sklearn.impute import SimpleImputer\n",
        "from sklearn.metrics import accuracy_score, precision_score, recall_score, f1_score\n",
        "\n",
        "from sklearn.linear_model import LogisticRegression\n",
        "from sklearn.ensemble import RandomForestClassifier\n",
        "from sklearn.svm import SVC\n",
        "from sklearn.naive_bayes import GaussianNB\n",
        "from sklearn.neural_network import MLPClassifier"
      ]
    },
    {
      "cell_type": "code",
      "execution_count": 3,
      "metadata": {
        "id": "L2L2XMxJV93J"
      },
      "outputs": [],
      "source": [
        "df = pd.read_csv('/data/kidney_disease.csv')"
      ]
    },
    {
      "cell_type": "code",
      "execution_count": 4,
      "metadata": {
        "id": "QfcOLux9WDXz"
      },
      "outputs": [],
      "source": [
        "df.drop(columns=['id'], inplace=True)  \n",
        "\n",
        "df.replace('?', np.nan, inplace=True)  \n",
        "\n",
        "\n",
        "for col in df.columns:\n",
        "    df[col] = df[col].astype(str).str.strip()\n",
        "\n",
        "df['classification'] = df['classification'].map({'ckd': 1, 'notckd': 0})"
      ]
    },
    {
      "cell_type": "code",
      "execution_count": 5,
      "metadata": {
        "id": "mVCCHjbnWEpi"
      },
      "outputs": [],
      "source": [
        "X = df.drop(columns=['classification'])\n",
        "y = df['classification']\n",
        "\n",
        "\n",
        "imputer = SimpleImputer(strategy='most_frequent')\n",
        "X_imputed = imputer.fit_transform(X)"
      ]
    },
    {
      "cell_type": "code",
      "execution_count": 6,
      "metadata": {
        "id": "-Oh6u-YNWHe8"
      },
      "outputs": [],
      "source": [
        "X_encoded = pd.DataFrame(X_imputed, columns=X.columns)\n",
        "\n",
        "for col in X_encoded.columns:\n",
        "    if X_encoded[col].dtype == 'object':\n",
        "        le = LabelEncoder()\n",
        "        X_encoded[col] = le.fit_transform(X_encoded[col])"
      ]
    },
    {
      "cell_type": "code",
      "execution_count": 7,
      "metadata": {
        "id": "LjHJMY-lWKdR"
      },
      "outputs": [],
      "source": [
        " sscaler = StandardScaler()\n",
        "X_scaled = scaler.fit_transform(X_encoded)\n",
        "\n",
        "X_train, X_test, y_train, y_test = train_test_split(X_scaled, y, test_size=0.3, random_state=42)"
      ]
    },
    {
      "cell_type": "code",
      "execution_count": 8,
      "metadata": {
        "id": "iACrG6cTWNpc"
      },
      "outputs": [],
      "source": [
        "models = {\n",
        "    \"Logistic Regression\": LogisticRegression(max_iter=1000),\n",
        "    \"Random Forest\": RandomForestClassifier(random_state=42),\n",
        "    \"Support Vector Machine\": SVC(),\n",
        "    \"Naive Bayes\": GaussianNB(),\n",
        "    \"Multilayer Perceptron\": MLPClassifier(max_iter=1000, random_state=42)\n",
        "}"
      ]
    },
    {
      "cell_type": "code",
      "execution_count": 9,
      "metadata": {
        "colab": {
          "base_uri": "https://localhost:8080/"
        },
        "id": "YjYqyQRLWRyp",
        "outputId": "a52f0dc1-ed36-4bef-e8ea-2921b525d146"
      },
      "outputs": [
        {
          "name": "stdout",
          "output_type": "stream",
          "text": [
            "训练模型：Logistic Regression\n",
            "Logistic Regression -- 准确率: 0.9833, 精确率: 0.9868, 召回率: 0.9868, F1分数: 0.9868\n",
            "\n",
            "训练模型：Random Forest\n",
            "Random Forest -- 准确率: 1.0000, 精确率: 1.0000, 召回率: 1.0000, F1分数: 1.0000\n",
            "\n",
            "训练模型：Support Vector Machine\n",
            "Support Vector Machine -- 准确率: 0.9750, 精确率: 0.9620, 召回率: 1.0000, F1分数: 0.9806\n",
            "\n",
            "训练模型：Naive Bayes\n",
            "Naive Bayes -- 准确率: 0.9000, 精确率: 0.9444, 召回率: 0.8947, F1分数: 0.9189\n",
            "\n",
            "训练模型：Multilayer Perceptron\n",
            "Multilayer Perceptron -- 准确率: 0.9917, 精确率: 1.0000, 召回率: 0.9868, F1分数: 0.9934\n",
            "\n"
          ]
        }
      ],
      "source": [
        "results = []\n",
        "for name, model in models.items():\n",
        "    print(f\"训练模型：{name}\")\n",
        "    model.fit(X_train, y_train)\n",
        "    y_pred = model.predict(X_test)\n",
        "\n",
        "    acc = accuracy_score(y_test, y_pred)\n",
        "    prec = precision_score(y_test, y_pred)\n",
        "    rec = recall_score(y_test, y_pred)\n",
        "    f1 = f1_score(y_test, y_pred)\n",
        "\n",
        "    print(f\"{name} -- 准确率: {acc:.4f}, 精确率: {prec:.4f}, 召回率: {rec:.4f}, F1分数: {f1:.4f}\\n\")\n",
        "\n",
        "    results.append({\n",
        "        \"Model\": name,\n",
        "        \"Accuracy\": acc,\n",
        "        \"Precision\": prec,\n",
        "        \"Recall\": rec,\n",
        "        \"F1 Score\": f1\n",
        "    })"
      ]
    },
    {
      "cell_type": "code",
      "execution_count": 10,
      "metadata": {
        "colab": {
          "base_uri": "https://localhost:8080/"
        },
        "id": "-FMM60a-WWLD",
        "outputId": "b7d25688-5757-4dc0-e0b0-8f98465abcdd"
      },
      "outputs": [
        {
          "name": "stdout",
          "output_type": "stream",
          "text": [
            "所有模型性能对比：\n",
            "                    Model  Accuracy  Precision    Recall  F1 Score\n",
            "0     Logistic Regression  0.983333   0.986842  0.986842  0.986842\n",
            "1           Random Forest  1.000000   1.000000  1.000000  1.000000\n",
            "2  Support Vector Machine  0.975000   0.962025  1.000000  0.980645\n",
            "3             Naive Bayes  0.900000   0.944444  0.894737  0.918919\n",
            "4   Multilayer Perceptron  0.991667   1.000000  0.986842  0.993377\n"
          ]
        }
      ],
      "source": [
        "results_df = pd.DataFrame(results)\n",
        "print(\"所有模型性能对比：\")\n",
        "print(results_df)"
      ]
    },
    {
      "cell_type": "code",
      "execution_count": 11,
      "metadata": {
        "id": "k-dZiZLIYmOk"
      },
      "outputs": [],
      "source": [
        "from sklearn.ensemble import VotingClassifier, BaggingClassifier\n",
        "\n",
        "lr = LogisticRegression(max_iter=1000, random_state=42)\n",
        "rf = RandomForestClassifier(random_state=42)\n",
        "svm = SVC(probability=True)"
      ]
    },
    {
      "cell_type": "code",
      "execution_count": 13,
      "metadata": {
        "id": "bzhqUvZFYpJV"
      },
      "outputs": [],
      "source": [
        "voting_clf = VotingClassifier(\n",
        "    estimators=[('lr', lr), ('rf', rf), ('svm', svm)],\n",
        "    voting='soft'\n",
        ")"
      ]
    },
    {
      "cell_type": "code",
      "execution_count": 14,
      "metadata": {
        "id": "qzworh_WYssR"
      },
      "outputs": [],
      "source": [
        "bagging_clf = BaggingClassifier(estimator=lr, n_estimators=10, random_state=42)\n",
        "\n",
        "\n",
        "ensemble_models_discriminative = {\n",
        "    \"Voting (LR+RF+SVM)\": voting_clf,\n",
        "    \"Bagging (Logistic Regression)\": bagging_clf\n",
        "}"
      ]
    },
    {
      "cell_type": "code",
      "execution_count": 15,
      "metadata": {
        "colab": {
          "base_uri": "https://localhost:8080/"
        },
        "id": "ZxkkD5BwY4Yr",
        "outputId": "0498c609-cf68-44a9-f24a-7e3fc5891f7b"
      },
      "outputs": [
        {
          "name": "stdout",
          "output_type": "stream",
          "text": [
            "训练集成模型：Voting (LR+RF+SVM)\n",
            "Voting (LR+RF+SVM) -- 准确率: 0.9917, 精确率: 0.9870, 召回率: 1.0000, F1分数: 0.9935\n",
            "\n",
            "训练集成模型：Bagging (Logistic Regression)\n",
            "Bagging (Logistic Regression) -- 准确率: 0.9750, 精确率: 0.9740, 召回率: 0.9868, F1分数: 0.9804\n",
            "\n"
          ]
        }
      ],
      "source": [
        "for name, model in ensemble_models_discriminative.items():\n",
        "    print(f\"训练集成模型：{name}\")\n",
        "    model.fit(X_train, y_train)\n",
        "    y_pred = model.predict(X_test)\n",
        "\n",
        "    acc = accuracy_score(y_test, y_pred)\n",
        "    prec = precision_score(y_test, y_pred)\n",
        "    rec = recall_score(y_test, y_pred)\n",
        "    f1 = f1_score(y_test, y_pred)\n",
        "\n",
        "    print(f\"{name} -- 准确率: {acc:.4f}, 精确率: {prec:.4f}, 召回率: {rec:.4f}, F1分数: {f1:.4f}\\n\")"
      ]
    },
    {
      "cell_type": "code",
      "execution_count": 16,
      "metadata": {
        "id": "QLRvzb385SPh"
      },
      "outputs": [],
      "source": [
        "from sklearn.ensemble import VotingClassifier, BaggingClassifier, StackingClassifier\n",
        "from sklearn.linear_model import LogisticRegression\n",
        "from sklearn.ensemble import RandomForestClassifier\n",
        "from sklearn.svm import SVC\n",
        "from sklearn.naive_bayes import GaussianNB\n",
        "from sklearn.neural_network import MLPClassifier\n",
        "from sklearn.metrics import accuracy_score, precision_score, recall_score, f1_score\n"
      ]
    },
    {
      "cell_type": "code",
      "execution_count": 17,
      "metadata": {
        "colab": {
          "base_uri": "https://localhost:8080/"
        },
        "id": "Sd_Ssxu046dV",
        "outputId": "31f6da5d-5149-4c4f-bb51-03694914356c"
      },
      "outputs": [
        {
          "name": "stdout",
          "output_type": "stream",
          "text": [
            "Voting (Discriminative) F1: 0.9934640522875817\n"
          ]
        }
      ],
      "source": [
        "voting_clf = VotingClassifier(\n",
        "    estimators=[\n",
        "        ('lr', LogisticRegression(max_iter=1000)),\n",
        "        ('rf', RandomForestClassifier(random_state=42)),\n",
        "        ('svm', SVC(probability=True))  # 需要设置probability=True\n",
        "    ],\n",
        "    voting='soft'\n",
        ")\n",
        "voting_clf.fit(X_train, y_train)\n",
        "y_pred = voting_clf.predict(X_test)\n",
        "print(\"Voting (Discriminative) F1:\", f1_score(y_test, y_pred))\n"
      ]
    },
    {
      "cell_type": "code",
      "execution_count": 18,
      "metadata": {
        "colab": {
          "base_uri": "https://localhost:8080/"
        },
        "id": "HMto5wGJ6E5C",
        "outputId": "58778e01-cafa-4adc-b8f8-b4283fed2a6f"
      },
      "outputs": [
        {
          "name": "stdout",
          "output_type": "stream",
          "text": [
            "Bagging (Logistic) F1: 0.9803921568627451\n"
          ]
        }
      ],
      "source": [
        "bagging_lr = BaggingClassifier(\n",
        "    estimator=LogisticRegression(max_iter=1000),\n",
        "    n_estimators=10,\n",
        "    random_state=42\n",
        ")\n",
        "bagging_lr.fit(X_train, y_train)\n",
        "y_pred = bagging_lr.predict(X_test)\n",
        "print(\"Bagging (Logistic) F1:\", f1_score(y_test, y_pred))\n"
      ]
    },
    {
      "cell_type": "code",
      "execution_count": 19,
      "metadata": {
        "colab": {
          "base_uri": "https://localhost:8080/"
        },
        "id": "HR1DhmYY6JiA",
        "outputId": "391da587-36a2-4f13-bb10-3b4ff952cc3f"
      },
      "outputs": [
        {
          "name": "stdout",
          "output_type": "stream",
          "text": [
            "Voting (Generative) F1: 0.9261744966442953\n"
          ]
        }
      ],
      "source": [
        "voting_generative = VotingClassifier(\n",
        "    estimators=[\n",
        "        ('nb', GaussianNB()),\n",
        "        ('mlp', MLPClassifier(max_iter=1000, random_state=42))\n",
        "    ],\n",
        "    voting='soft'\n",
        ")\n",
        "voting_generative.fit(X_train, y_train)\n",
        "y_pred = voting_generative.predict(X_test)\n",
        "print(\"Voting (Generative) F1:\", f1_score(y_test, y_pred))\n"
      ]
    },
    {
      "cell_type": "code",
      "execution_count": 20,
      "metadata": {
        "colab": {
          "base_uri": "https://localhost:8080/"
        },
        "id": "kSrqNyyk6K2M",
        "outputId": "d46395b3-5b64-4409-af22-7fca48e09591"
      },
      "outputs": [
        {
          "name": "stdout",
          "output_type": "stream",
          "text": [
            "Stacking (Generative) Recall: 1.0\n"
          ]
        }
      ],
      "source": [
        "stacking_generative = StackingClassifier(\n",
        "    estimators=[\n",
        "        ('nb', GaussianNB()),\n",
        "        ('mlp', MLPClassifier(max_iter=1000, random_state=42))\n",
        "    ],\n",
        "    final_estimator=RandomForestClassifier(random_state=42)\n",
        ")\n",
        "stacking_generative.fit(X_train, y_train)\n",
        "y_pred = stacking_generative.predict(X_test)\n",
        "print(\"Stacking (Generative) Recall:\", recall_score(y_test, y_pred))\n"
      ]
    },
    {
      "cell_type": "markdown",
      "metadata": {},
      "source": [
        "Question II:\n",
        "Example of Reinforcement Learning: Robotaxi\n",
        "\n",
        "Think about a self-driving taxi, called a Robotaxi, learning to drive in a city. The agent is the Robotaxi, with sensors like cameras and LIDAR to see the road, other cars, pedestrians, and traffic lights.\n",
        "\n",
        "It can do actions like accelerate, brake, turn left/right, or stop.\n",
        "The reward system could look like this:\n",
        "\n",
        "+10 points for safely dropping off a passenger at their destination\n",
        "-20 points for causing or being involved in an accident\n",
        "+5 points for following traffic rules correctly (like stopping at red lights)\n",
        "-10 points for running a red light or speeding\n",
        "+2 points for smooth driving that saves battery/fuel\n",
        "+3 points for picking up a new passenger quickly\n",
        "\n",
        "The Robotaxi learns from these rewards and tries to maximize its total points. If it speeds or breaks rules, it loses points, so it learns to drive safely and efficiently to get the best score."
      ]
    }
  ],
  "metadata": {
    "colab": {
      "provenance": []
    },
    "kernelspec": {
      "display_name": "Python 3",
      "name": "python3"
    }
  },
  "nbformat": 4,
  "nbformat_minor": 0
}
